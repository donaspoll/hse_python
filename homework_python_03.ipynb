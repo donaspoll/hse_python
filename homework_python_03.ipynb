{
 "cells": [
  {
   "cell_type": "markdown",
   "id": "10fe5e93-f958-4dee-a03d-3a24dbb7ef9b",
   "metadata": {},
   "source": [
    "#### Репозиторий для домашней работы\n",
    "https://github.com/donaspoll/hse_python"
   ]
  },
  {
   "cell_type": "markdown",
   "id": "9973d8f0-526c-4734-906d-f29234cd52bb",
   "metadata": {},
   "source": [
    "##### Задание\n",
    "Необходимо написать программу, которая сформирует словарь данных на основании заданных критериев (ключ = ключ в исходной структуре, значение = True — если\r\n",
    "количество ниже 20 , False — остальные случаи). При разработке использовать dict comprehension.\r\n",
    "Исходные данные имеют следующую структуру\n",
    ":\r\n",
    "items \n",
    "= {\r\n",
    "'milk15':{'name': 'молоко 1.5%', 'count': 34', 'price': 89.\n",
    "9},\r\n",
    "'cheese':{'name': сыр молочный 1 кг.', 'count': 12', 'price': 990\n",
    ".9},\r\n",
    "'sausage':{'name': колбаса 1 кг.', 'count': 122', 'price': 19\n",
    "90\n",
    ".9}\r\n",
    "}\r\n",
    "Рез\n",
    "ультат:\r\n",
    "price_les\n",
    "s_20 = {\r\n",
    "'milk15\n",
    "': False,\r\n",
    "'chee\n",
    "se': True,\r\n",
    "'saus\n",
    "age': False\r\n",
    "}\r\n"
   ]
  },
  {
   "cell_type": "code",
   "execution_count": 3,
   "id": "4b20992d-9783-45bf-8c83-37f2f1da4fc9",
   "metadata": {},
   "outputs": [
    {
     "name": "stdout",
     "output_type": "stream",
     "text": [
      "{'milk15': False, 'cheese': True, 'sausage': False}\n"
     ]
    }
   ],
   "source": [
    "items = {\n",
    "    'milk15': {'name': 'молоко 1.5%', 'count': 34, 'price': 89.9},\n",
    "    'cheese': {'name': 'сыр молочный 1 кг.', 'count': 12, 'price': 990.9},\n",
    "    'sausage': {'name': 'колбаса 1 кг.', 'count': 122, 'price': 1990.9}\n",
    "}\n",
    "\n",
    "# Определяем условие для цены менее 20\n",
    "def price_less_than_20(item):\n",
    "    return item['count'] <= 20\n",
    "\n",
    "# Формируем новый словарь с ключами и значениями на основе условия\n",
    "price_less_20 = {key: price_less_than_20(value) for key, value in items.items()}\n",
    "print(price_less_20)"
   ]
  }
 ],
 "metadata": {
  "kernelspec": {
   "display_name": "Python 3 (ipykernel)",
   "language": "python",
   "name": "python3"
  },
  "language_info": {
   "codemirror_mode": {
    "name": "ipython",
    "version": 3
   },
   "file_extension": ".py",
   "mimetype": "text/x-python",
   "name": "python",
   "nbconvert_exporter": "python",
   "pygments_lexer": "ipython3",
   "version": "3.12.4"
  }
 },
 "nbformat": 4,
 "nbformat_minor": 5
}
