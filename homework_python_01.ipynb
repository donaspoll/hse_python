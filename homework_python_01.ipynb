{
 "cells": [
  {
   "cell_type": "markdown",
   "id": "529b99a9-8382-4b73-8865-8eb8942fd747",
   "metadata": {},
   "source": [
    "#### Репозиторий для домашней работы\n",
    "https://github.com/donaspoll/hse_python"
   ]
  },
  {
   "cell_type": "markdown",
   "id": "75367deb-9c9f-4466-a03c-862057f62b58",
   "metadata": {},
   "source": [
    "##### Задание 1\n",
    "Напишите код на Python в среде Jupyter Notebook для решения следующей задачи. \n",
    "Дана переменная, в которой хранится четырёхзначное число — год  Необходим \r\n",
    "написать программу, которая выведет, является этот год високосным или обычным."
   ]
  },
  {
   "cell_type": "code",
   "execution_count": 38,
   "id": "93fcf03a-7bd7-4391-bad3-c1690cbf7f54",
   "metadata": {},
   "outputs": [
    {
     "name": "stdout",
     "output_type": "stream",
     "text": [
      "Обычный год.\n"
     ]
    }
   ],
   "source": [
    "def leap_year(year):\n",
    "    # Условия високосного года\n",
    "    if (year % 4 == 0 and year % 100 != 0) or (year % 400 == 0):\n",
    "        return True  # Високосный год\n",
    "    else:\n",
    "        return False  # Не високосный год\n",
    "year = 2023\n",
    "if leap_year(year):\n",
    "    print(\"Високосный год.\")\n",
    "else:\n",
    "    print(\"Обычный год.\")"
   ]
  },
  {
   "cell_type": "code",
   "execution_count": 28,
   "id": "43bef091-3ec3-49b7-ae91-b8fa46b6fcef",
   "metadata": {},
   "outputs": [
    {
     "name": "stdin",
     "output_type": "stream",
     "text": [
      "Введите год от 1900: 2050\n"
     ]
    },
    {
     "name": "stdout",
     "output_type": "stream",
     "text": [
      "2050 не високосный год.\n"
     ]
    }
   ],
   "source": [
    "# Функция для проверки того, является ли год високосным\n",
    "def leap_year(year):\n",
    "    # Условия високосного года\n",
    "    if (year % 4 == 0 and year % 100 != 0) or (year % 400 == 0):\n",
    "        return True  # Високосный год\n",
    "    else:\n",
    "        return False  # Не високосный год\n",
    "\n",
    "# Ввод года для проверки\n",
    "year = int(input(\"Введите год от 1900:\"))\n",
    "\n",
    "# Вызов функции для проверки високосного года\n",
    "if leap_year(year):\n",
    "    print(f\"{year} високосный год.\")\n",
    "elif year < 1900:\n",
    "    print(f\"{year} данный год не подходит для ввода.\")\n",
    "else:\n",
    "    print(f\"{year} не високосный год.\")"
   ]
  },
  {
   "cell_type": "code",
   "execution_count": 34,
   "id": "7c6e9582-fb1b-4c5c-a3c2-52967e39292f",
   "metadata": {},
   "outputs": [
    {
     "name": "stdout",
     "output_type": "stream",
     "text": [
      "Программа для проверки високосных годов в диапазоне.\n",
      "Високосные годы в диапазоне от 2024 до 2050:\n",
      "[2024, 2028, 2032, 2036, 2040, 2044, 2048]\n"
     ]
    }
   ],
   "source": [
    "def check_leap_years(start_year, end_year):\n",
    "    leap_years = []\n",
    "\n",
    "    for year in range(start_year, end_year + 1):\n",
    "        if (year % 4 == 0 and year % 100 != 0) or (year % 400 == 0):\n",
    "            leap_years.append(year)\n",
    "\n",
    "    return leap_years\n",
    "\n",
    "# Диапазон годов\n",
    "print(\"Программа для проверки високосных годов в диапазоне.\")\n",
    "start_year = 2024\n",
    "end_year = 2050\n",
    "\n",
    "# Вызов функции для проверки високосного года\n",
    "leap_years = check_leap_years(start_year, end_year)\n",
    "\n",
    "print(f\"Високосные годы в диапазоне от {start_year} до {end_year}:\\n{leap_years}\")"
   ]
  },
  {
   "cell_type": "markdown",
   "id": "4a9f585f-c84c-4943-9845-949108394dab",
   "metadata": {},
   "source": [
    "##### Задание 2\n",
    "\n",
    "Напишите код на Python в среде Jupyter Notebook для решения следующей задачи. \n",
    "\n",
    "Дана переменная, в которой хранится шестизначное число — номе  проездног \r\n",
    "билета. Напишите программу, которая будет определять, является ли этот бил т\r\n",
    "счастливым. Билет считается счастливым, если сумма первых трёх цифр совпадае  с\r\n",
    "суммой последних трёх цифр номера."
   ]
  },
  {
   "cell_type": "code",
   "execution_count": 44,
   "id": "de730d3a-860a-4faa-86af-fab42864f1cc",
   "metadata": {},
   "outputs": [
    {
     "name": "stdout",
     "output_type": "stream",
     "text": [
      "Счастливый билет!\n"
     ]
    }
   ],
   "source": [
    "#number = str(123456)\n",
    "number = str(123321)\n",
    "# Проверяем, является ли билет счастливым\n",
    "first_half = int(number[0]) + int(number[1]) + int(number[2])\n",
    "second_half = int(number[3]) + int(number[4]) + int(number[5])\n",
    "if first_half == second_half:\n",
    "    print(\"Счастливый билет!\")\n",
    "else:\n",
    "    print(\"Несчастливый билет\")\n",
    "\n"
   ]
  }
 ],
 "metadata": {
  "kernelspec": {
   "display_name": "Python 3 (ipykernel)",
   "language": "python",
   "name": "python3"
  },
  "language_info": {
   "codemirror_mode": {
    "name": "ipython",
    "version": 3
   },
   "file_extension": ".py",
   "mimetype": "text/x-python",
   "name": "python",
   "nbconvert_exporter": "python",
   "pygments_lexer": "ipython3",
   "version": "3.12.4"
  }
 },
 "nbformat": 4,
 "nbformat_minor": 5
}
