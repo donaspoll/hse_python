{
 "cells": [
  {
   "cell_type": "markdown",
   "id": "1f230134-4e72-4484-a74f-edbf6058a76f",
   "metadata": {},
   "source": [
    "#### Репозиторий для домашней работы\n",
    "https://github.com/donaspoll/hse_python"
   ]
  },
  {
   "cell_type": "markdown",
   "id": "26576d23-a449-4a19-ac21-6de9af19eb29",
   "metadata": {},
   "source": [
    "##### Задача 1\n",
    "Пользователь по команде p может узнать владельца документа по его номеру.\n",
    "\n",
    "Пример работы программы:\n",
    "\n",
    "Введите команду:\n",
    "p\n",
    "\n",
    "Введите номер документа:\n",
    "10006\n",
    "\n",
    "Результат:\n",
    "Владелец документа: Аристарх Павлов\n"
   ]
  },
  {
   "cell_type": "code",
   "execution_count": 1,
   "id": "4baf355d-be33-4af5-8c7c-a1e13881654e",
   "metadata": {},
   "outputs": [
    {
     "name": "stdin",
     "output_type": "stream",
     "text": [
      "Введите команду:  p\n",
      "Введите номер документа:  10006\n"
     ]
    },
    {
     "name": "stdout",
     "output_type": "stream",
     "text": [
      "Владелец документа: Аристарх Павлов\n"
     ]
    },
    {
     "name": "stdin",
     "output_type": "stream",
     "text": [
      "Введите команду:  p\n",
      "Введите номер документа:  11-2\n"
     ]
    },
    {
     "name": "stdout",
     "output_type": "stream",
     "text": [
      "Владелец документа: Геннадий Покемонов\n"
     ]
    },
    {
     "name": "stdin",
     "output_type": "stream",
     "text": [
      "Введите команду:  p\n",
      "Введите номер документа:  2207 876234\n"
     ]
    },
    {
     "name": "stdout",
     "output_type": "stream",
     "text": [
      "Владелец документа: Василий Гупкин\n"
     ]
    },
    {
     "name": "stdin",
     "output_type": "stream",
     "text": [
      "Введите команду:  q\n"
     ]
    },
    {
     "name": "stdout",
     "output_type": "stream",
     "text": [
      "Завершение программы.\n"
     ]
    }
   ],
   "source": [
    "documents = [\n",
    "    {\"type\": \"passport\", \"number\": \"2207 876234\", \"name\": \"Василий Гупкин\"},\n",
    "    {\"type\": \"invoice\", \"number\": \"11-2\", \"name\": \"Геннадий Покемонов\"},\n",
    "    {\"type\": \"insurance\", \"number\": \"10006\", \"name\": \"Аристарх Павлов\"}\n",
    "]\n",
    "\n",
    "directories = {\n",
    "    \"1\": [\"2207 876234\", \"11-2\"],\n",
    "    \"2\": [\"10006\"],\n",
    "    \"3\": []\n",
    "}\n",
    "\n",
    "def get_document_owner(documents, doc_number):\n",
    "\n",
    "    for document in documents:\n",
    "        if document[\"number\"] == doc_number:\n",
    "            return document[\"name\"]\n",
    "    return None\n",
    "\n",
    "def main():\n",
    "    \n",
    "    while True:\n",
    "        command = input(\"Введите команду: \")\n",
    "        \n",
    "        if command == \"q\":\n",
    "            print(\"Завершение программы.\")\n",
    "            break\n",
    "            \n",
    "        elif command == \"p\":\n",
    "            doc_number = input(\"Введите номер документа: \")\n",
    "            owner = get_document_owner(documents, doc_number)\n",
    "            if owner is not None:\n",
    "                print(f\"Владелец документа: {owner}\")\n",
    "            else:\n",
    "                print(\"Документ не найден.\")\n",
    "                \n",
    "if __name__ == \"__main__\":\n",
    "    main()"
   ]
  },
  {
   "cell_type": "markdown",
   "id": "20bdd1d6-cc40-49c0-9e74-eb4cd25ebc5e",
   "metadata": {},
   "source": [
    "##### Задача 2 (необязательная)\n",
    "Секретарь по команде s может по номеру документа узнать, на какой полке документ хранится.\n",
    "\n",
    "Пример работы программы:\n",
    "Введите команду:\n",
    "s\n",
    "\n",
    "Введите номер документа:\n",
    "10006\n",
    "\n",
    "Результат:\n",
    "Документ хранится на полке: 2\n"
   ]
  },
  {
   "cell_type": "code",
   "execution_count": null,
   "id": "3e6d42bf-a5fc-44b5-a44e-3d9302660b72",
   "metadata": {},
   "outputs": [
    {
     "name": "stdin",
     "output_type": "stream",
     "text": [
      "Введите команду:  p\n",
      "Введите номер документа:  10006\n"
     ]
    },
    {
     "name": "stdout",
     "output_type": "stream",
     "text": [
      "Владелец документа: Аристарх Павлов\n"
     ]
    },
    {
     "name": "stdin",
     "output_type": "stream",
     "text": [
      "Введите команду:  p\n",
      "Введите номер документа:  11-2\n"
     ]
    },
    {
     "name": "stdout",
     "output_type": "stream",
     "text": [
      "Владелец документа: Геннадий Покемонов\n"
     ]
    },
    {
     "name": "stdin",
     "output_type": "stream",
     "text": [
      "Введите команду:  p\n",
      "Введите номер документа:  2207 876234\n"
     ]
    },
    {
     "name": "stdout",
     "output_type": "stream",
     "text": [
      "Владелец документа: Василий Гупкин\n"
     ]
    },
    {
     "name": "stdin",
     "output_type": "stream",
     "text": [
      "Введите команду:  s\n",
      "Введите номер документа:  10006\n"
     ]
    },
    {
     "name": "stdout",
     "output_type": "stream",
     "text": [
      "Документ хранится на полке: 2\n"
     ]
    },
    {
     "name": "stdin",
     "output_type": "stream",
     "text": [
      "Введите команду:  s\n",
      "Введите номер документа:  2207 876234\n"
     ]
    },
    {
     "name": "stdout",
     "output_type": "stream",
     "text": [
      "Документ хранится на полке: 1\n"
     ]
    }
   ],
   "source": [
    "# Перечень всех документов\n",
    "documents = [\n",
    "    {\"type\": \"passport\", \"number\": \"2207 876234\", \"name\": \"Василий Гупкин\"},\n",
    "    {\"type\": \"invoice\", \"number\": \"11-2\", \"name\": \"Геннадий Покемонов\"},\n",
    "    {\"type\": \"insurance\", \"number\": \"10006\", \"name\": \"Аристарх Павлов\"}\n",
    "]\n",
    "\n",
    "# Перечень полок, на которых хранятся документы\n",
    "directories = {\n",
    "    \"1\": [\"2207 876234\", \"11-2\"],\n",
    "    \"2\": [\"10006\"],\n",
    "    \"3\": []\n",
    "}\n",
    "\n",
    "def get_document_owner(documents, doc_number):\n",
    "    \n",
    "    for document in documents:\n",
    "        if document[\"number\"] == doc_number:\n",
    "            return document[\"name\"]\n",
    "    return None\n",
    "\n",
    "def find_shelf(directories, doc_number):\n",
    "    \n",
    "    for shelf, docs_on_shelf in directories.items():\n",
    "        if doc_number in docs_on_shelf:\n",
    "            return shelf\n",
    "    return None\n",
    "\n",
    "def main():\n",
    "    \n",
    "    while True:\n",
    "        command = input(\"Введите команду: \")\n",
    "        \n",
    "        if command == \"q\":\n",
    "            print(\"Завершение программы.\")\n",
    "            break\n",
    "            \n",
    "        elif command == \"p\":\n",
    "            doc_number = input(\"Введите номер документа: \")\n",
    "            owner = get_document_owner(documents, doc_number)\n",
    "            if owner is not None:\n",
    "                print(f\"Владелец документа: {owner}\")\n",
    "            else:\n",
    "                print(\"Документ не найден.\")\n",
    "                \n",
    "        elif command == \"s\":\n",
    "            doc_number = input(\"Введите номер документа: \")\n",
    "            shelf = find_shelf(directories, doc_number)\n",
    "            if shelf is not None:\n",
    "                print(f\"Документ хранится на полке: {shelf}\")\n",
    "            else:\n",
    "                print(\"Документ не найден.\")\n",
    "\n",
    "if __name__ == \"__main__\":\n",
    "    main()"
   ]
  },
  {
   "cell_type": "code",
   "execution_count": null,
   "id": "60105b83-86d1-47f1-8014-daecc10aab25",
   "metadata": {},
   "outputs": [],
   "source": []
  }
 ],
 "metadata": {
  "kernelspec": {
   "display_name": "Python 3 (ipykernel)",
   "language": "python",
   "name": "python3"
  },
  "language_info": {
   "codemirror_mode": {
    "name": "ipython",
    "version": 3
   },
   "file_extension": ".py",
   "mimetype": "text/x-python",
   "name": "python",
   "nbconvert_exporter": "python",
   "pygments_lexer": "ipython3",
   "version": "3.12.4"
  }
 },
 "nbformat": 4,
 "nbformat_minor": 5
}
