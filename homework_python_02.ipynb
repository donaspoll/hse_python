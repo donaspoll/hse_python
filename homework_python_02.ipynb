{
 "cells": [
  {
   "cell_type": "markdown",
   "id": "5840e9d3-6c6d-4bf6-8b08-aaaeb01bf44d",
   "metadata": {},
   "source": [
    "#### Репозиторий для домашней работы\n",
    "https://github.com/donaspoll/hse_python"
   ]
  },
  {
   "cell_type": "markdown",
   "id": "982ddc34-93d5-4873-a398-5d5d1328735d",
   "metadata": {},
   "source": [
    "##### Задание 1\n",
    "\n",
    "Напишите код на Python в среде Jupyter Notebook или PyCharm для решения\r\n",
    "следующей задачи.\n",
    "Дана переменная, в которой хранится слово из латинских букв. Напишите код на python, который выводит на экран:\r\n",
    "- среднюю букву, если число букв в слове нечётное;\r\n",
    "- две средних буквы, если число букв чётное.\n",
    "тное.\r\n",
    "Пример работы программы:\r\n",
    "1. word = &apos;test&apos;\r\n",
    "Результат: es\r\n",
    "2. word = &apos;testing&apos;\r\n",
    "Результат: t"
   ]
  },
  {
   "cell_type": "code",
   "execution_count": 5,
   "id": "575d9199-6399-4e51-b549-b1bed397a630",
   "metadata": {},
   "outputs": [
    {
     "name": "stdin",
     "output_type": "stream",
     "text": [
      "Введите слово:  stpo\n"
     ]
    },
    {
     "name": "stdout",
     "output_type": "stream",
     "text": [
      "tp\n"
     ]
    }
   ],
   "source": [
    "def find_middle_letters(word):\n",
    "    if len(word) % 2 == 0:\n",
    "        middle_index = int((len(word)) / 2) - 1\n",
    "        return word[middle_index] + word[middle_index+1]\n",
    "    else:\n",
    "        middle_index = int((len(word) + 1) / 2) - 1\n",
    "        return word[middle_index]\n",
    "\n",
    "# Пример использования функции\n",
    "word = input(\"Введите слово: \")\n",
    "print(find_middle_letters(word))"
   ]
  },
  {
   "cell_type": "markdown",
   "id": "4f35d991-3b60-4d22-a530-33f456250c72",
   "metadata": {},
   "source": [
    "##### Задание 2\n",
    "\n",
    "Напишите код на Python в среде Jupyter Notebook или PyCharm для решения следующей задачи. Вы делаете MVP (минимально жизнеспособный продукт) dating-сервиса. У вас есть список юношей и девушек. Выдвигаем гипотезу: лучшие рекомендации получатся, если просто отсортировать имена по алфавиту и познакомить людей с одинаковыми индексами после сортировки. Но вы не будете никого знакомить, если кто-то может остаться без пары.\n",
    "\n",
    "Результат\n",
    "Идеальные пары:\n",
    "Alex и Emma\n",
    "Arthur и Kate\n",
    "John и Kira\n",
    "Peter и Liza\n",
    "Richard и Trisha\n",
    "\n",
    "Результат: Внимание, кто-то может остаться без пары.то-то может остаться без пары."
   ]
  },
  {
   "cell_type": "code",
   "execution_count": 27,
   "id": "a4bba0cd-490f-438d-8ab3-74775c26905f",
   "metadata": {
    "editable": true,
    "slideshow": {
     "slide_type": ""
    },
    "tags": []
   },
   "outputs": [
    {
     "name": "stdout",
     "output_type": "stream",
     "text": [
      "Alex и Emma\n",
      "Arthur и Kate\n",
      "John и Kira\n",
      "Peter и Liza\n",
      "Richard и Trisha\n",
      "Внимание, кто-то может остаться без пары.\n"
     ]
    }
   ],
   "source": [
    "def pair_friends(boys, girls):\n",
    "    boys = sorted(boys)\n",
    "    girls = sorted(girls)\n",
    "    \n",
    "    num_pairs = min(len(boys), len(girls))\n",
    "    \n",
    "    pairs = []\n",
    "    for i in range(num_pairs):\n",
    "        boy = boys[i]\n",
    "        girl = girls[i]\n",
    "        pairs.append((boy, girl))\n",
    "    \n",
    "    #if len(boys) > len(girls):\n",
    "     #   print('Внимание, кто-то может остаться без пары.')\n",
    "    \n",
    "    return pairs\n",
    "\n",
    "boys = ['Peter', 'Alex', 'John', 'Arthur', 'Richard']\n",
    "girls = ['Kate', 'Liza', 'Kira', 'Emma', 'Trisha']\n",
    "\n",
    "result = pair_friends(boys, girls)\n",
    "for boy, girl in result:\n",
    "    print(f\"{boy} и {girl}\")\n",
    "\n",
    "boys = ['Peter', 'Alex', 'John', 'Arthur', 'Richard', 'Michael']\n",
    "girls = ['Kate', 'Liza', 'Kira', 'Emma', 'Trisha']\n",
    "\n",
    "result = pair_friends(boys, girls)\n",
    "if len(boys) > len(girls):\n",
    "    print('Внимание, кто-то может остаться без пары.')\n",
    "else:\n",
    "    for boy, girl in result:\n",
    "        print(f\"{boy} и {girl}\")"
   ]
  },
  {
   "cell_type": "code",
   "execution_count": null,
   "id": "af7f8bdd-3faf-41e6-a0f9-2e3b9b4963a6",
   "metadata": {},
   "outputs": [],
   "source": []
  }
 ],
 "metadata": {
  "kernelspec": {
   "display_name": "Python 3 (ipykernel)",
   "language": "python",
   "name": "python3"
  },
  "language_info": {
   "codemirror_mode": {
    "name": "ipython",
    "version": 3
   },
   "file_extension": ".py",
   "mimetype": "text/x-python",
   "name": "python",
   "nbconvert_exporter": "python",
   "pygments_lexer": "ipython3",
   "version": "3.12.4"
  }
 },
 "nbformat": 4,
 "nbformat_minor": 5
}
