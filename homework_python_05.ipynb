{
 "cells": [
  {
   "cell_type": "markdown",
   "id": "a2254f5c-dfe5-48a2-8c47-2813e427b0a0",
   "metadata": {},
   "source": [
    "#### Репозиторий для домашней работы\n",
    "https://github.com/donaspoll/hse_python"
   ]
  },
  {
   "cell_type": "markdown",
   "id": "26edb71c-b87f-4f5b-aee0-8d14c83593e4",
   "metadata": {},
   "source": [
    "#### Задание\n",
    "\n",
    "Печатные газеты использовали свой формат дат для каждого выпуска. Для каждой газеты из списка напишите формат указанной даты для перевода в объект datetime:\n",
    "The Moscow Times — Wednesday, October 2, 2002\n",
    "The Guardian — Friday, 11.10.13\n",
    "Daily News — Thursday, 18 August 1977"
   ]
  },
  {
   "cell_type": "code",
   "execution_count": 20,
   "id": "411ab38c-65a1-4021-945e-94e89b0f8d33",
   "metadata": {},
   "outputs": [
    {
     "name": "stdin",
     "output_type": "stream",
     "text": [
      "Введите строку с датой или 'q' для выхода:  Friday, 11.10.13\n"
     ]
    },
    {
     "name": "stdout",
     "output_type": "stream",
     "text": [
      "2013-10-11 00:00:00\n"
     ]
    },
    {
     "name": "stdin",
     "output_type": "stream",
     "text": [
      "Введите строку с датой или 'q' для выхода:  Friday, 11.10.122\n"
     ]
    },
    {
     "name": "stdout",
     "output_type": "stream",
     "text": [
      "Не удалось распознать дату: Friday, 11.10.122\n"
     ]
    },
    {
     "name": "stdin",
     "output_type": "stream",
     "text": [
      "Введите строку с датой или 'q' для выхода:  Friday, 11.10.22\n"
     ]
    },
    {
     "name": "stdout",
     "output_type": "stream",
     "text": [
      "2022-10-11 00:00:00\n"
     ]
    },
    {
     "name": "stdin",
     "output_type": "stream",
     "text": [
      "Введите строку с датой или 'q' для выхода:  Friday, 11.13.22\n"
     ]
    },
    {
     "name": "stdout",
     "output_type": "stream",
     "text": [
      "Не удалось распознать дату: Friday, 11.13.22\n"
     ]
    },
    {
     "name": "stdin",
     "output_type": "stream",
     "text": [
      "Введите строку с датой или 'q' для выхода:  Friday, 11.12.22\n"
     ]
    },
    {
     "name": "stdout",
     "output_type": "stream",
     "text": [
      "2022-12-11 00:00:00\n"
     ]
    },
    {
     "name": "stdin",
     "output_type": "stream",
     "text": [
      "Введите строку с датой или 'q' для выхода:  Thursday, 18 August 1977\n"
     ]
    },
    {
     "name": "stdout",
     "output_type": "stream",
     "text": [
      "1977-08-18 00:00:00\n"
     ]
    },
    {
     "name": "stdin",
     "output_type": "stream",
     "text": [
      "Введите строку с датой или 'q' для выхода:  Thursday, 18 August 2192\n"
     ]
    },
    {
     "name": "stdout",
     "output_type": "stream",
     "text": [
      "2192-08-18 00:00:00\n"
     ]
    },
    {
     "name": "stdin",
     "output_type": "stream",
     "text": [
      "Введите строку с датой или 'q' для выхода:  Thursday, 18 August 21922\n"
     ]
    },
    {
     "name": "stdout",
     "output_type": "stream",
     "text": [
      "Не удалось распознать дату: Thursday, 18 August 21922\n"
     ]
    },
    {
     "name": "stdin",
     "output_type": "stream",
     "text": [
      "Введите строку с датой или 'q' для выхода:  Thursday, 144 August 21922\n"
     ]
    },
    {
     "name": "stdout",
     "output_type": "stream",
     "text": [
      "Не удалось распознать дату: Thursday, 144 August 21922\n"
     ]
    },
    {
     "name": "stdin",
     "output_type": "stream",
     "text": [
      "Введите строку с датой или 'q' для выхода:  Thursday, 144 August 2192\n"
     ]
    },
    {
     "name": "stdout",
     "output_type": "stream",
     "text": [
      "Не удалось распознать дату: Thursday, 144 August 2192\n"
     ]
    },
    {
     "name": "stdin",
     "output_type": "stream",
     "text": [
      "Введите строку с датой или 'q' для выхода:  Thursday, 31 August 2192\n"
     ]
    },
    {
     "name": "stdout",
     "output_type": "stream",
     "text": [
      "2192-08-31 00:00:00\n"
     ]
    },
    {
     "name": "stdin",
     "output_type": "stream",
     "text": [
      "Введите строку с датой или 'q' для выхода:  Thursday, 32 August 2192\n"
     ]
    },
    {
     "name": "stdout",
     "output_type": "stream",
     "text": [
      "Не удалось распознать дату: Thursday, 32 August 2192\n"
     ]
    },
    {
     "name": "stdin",
     "output_type": "stream",
     "text": [
      "Введите строку с датой или 'q' для выхода:  Wednesday, October 2, 2002\n"
     ]
    },
    {
     "name": "stdout",
     "output_type": "stream",
     "text": [
      "2002-10-02 00:00:00\n"
     ]
    },
    {
     "name": "stdin",
     "output_type": "stream",
     "text": [
      "Введите строку с датой или 'q' для выхода:  Wednesday, October 2, 2022\n"
     ]
    },
    {
     "name": "stdout",
     "output_type": "stream",
     "text": [
      "2022-10-02 00:00:00\n"
     ]
    },
    {
     "name": "stdin",
     "output_type": "stream",
     "text": [
      "Введите строку с датой или 'q' для выхода:  Wednesday, October 2, 20222\n"
     ]
    },
    {
     "name": "stdout",
     "output_type": "stream",
     "text": [
      "Не удалось распознать дату: Wednesday, October 2, 20222\n"
     ]
    },
    {
     "name": "stdin",
     "output_type": "stream",
     "text": [
      "Введите строку с датой или 'q' для выхода:  Wednesday, October 2, 2022\n"
     ]
    },
    {
     "name": "stdout",
     "output_type": "stream",
     "text": [
      "2022-10-02 00:00:00\n"
     ]
    },
    {
     "name": "stdin",
     "output_type": "stream",
     "text": [
      "Введите строку с датой или 'q' для выхода:  Wednesday, October 31, 2022\n"
     ]
    },
    {
     "name": "stdout",
     "output_type": "stream",
     "text": [
      "2022-10-31 00:00:00\n"
     ]
    },
    {
     "name": "stdin",
     "output_type": "stream",
     "text": [
      "Введите строку с датой или 'q' для выхода:  Wednesday, October 32, 2022\n"
     ]
    },
    {
     "name": "stdout",
     "output_type": "stream",
     "text": [
      "Не удалось распознать дату: Wednesday, October 32, 2022\n"
     ]
    },
    {
     "name": "stdin",
     "output_type": "stream",
     "text": [
      "Введите строку с датой или 'q' для выхода:  q\n"
     ]
    },
    {
     "name": "stdout",
     "output_type": "stream",
     "text": [
      "Завершение работы.\n"
     ]
    }
   ],
   "source": [
    "from datetime import datetime\n",
    "\n",
    "# Форматы дат для разных газет\n",
    "formats = {\n",
    "    'The Moscow Times': '%A, %B %d, %Y',\n",
    "    'The Guardian': '%A, %d.%m.%y',\n",
    "    'Daily News': '%A, %d %B %Y'\n",
    "}\n",
    "\n",
    "def parse_date(input_string):\n",
    "    for newspaper, format in formats.items():\n",
    "        try:\n",
    "            return datetime.strptime(input_string, format)\n",
    "        except ValueError:\n",
    "            continue\n",
    "    raise ValueError(f'Не удалось распознать дату: {input_string}')\n",
    "\n",
    "def main():\n",
    "    while True:\n",
    "        user_input = input(\"Введите строку с датой или 'q' для выхода: \")\n",
    "        \n",
    "        if user_input.lower() == 'q':\n",
    "            print('Завершение работы.')\n",
    "            break\n",
    "            \n",
    "        try:\n",
    "            parsed_date = parse_date(user_input)\n",
    "            print(parsed_date)\n",
    "        except ValueError as e:\n",
    "            print(e)\n",
    "\n",
    "if __name__ == \"__main__\":\n",
    "    main()"
   ]
  },
  {
   "cell_type": "code",
   "execution_count": null,
   "id": "c0e27111-344f-468f-9350-ef94d4b1ddcb",
   "metadata": {},
   "outputs": [],
   "source": []
  }
 ],
 "metadata": {
  "kernelspec": {
   "display_name": "Python 3 (ipykernel)",
   "language": "python",
   "name": "python3"
  },
  "language_info": {
   "codemirror_mode": {
    "name": "ipython",
    "version": 3
   },
   "file_extension": ".py",
   "mimetype": "text/x-python",
   "name": "python",
   "nbconvert_exporter": "python",
   "pygments_lexer": "ipython3",
   "version": "3.12.4"
  }
 },
 "nbformat": 4,
 "nbformat_minor": 5
}
